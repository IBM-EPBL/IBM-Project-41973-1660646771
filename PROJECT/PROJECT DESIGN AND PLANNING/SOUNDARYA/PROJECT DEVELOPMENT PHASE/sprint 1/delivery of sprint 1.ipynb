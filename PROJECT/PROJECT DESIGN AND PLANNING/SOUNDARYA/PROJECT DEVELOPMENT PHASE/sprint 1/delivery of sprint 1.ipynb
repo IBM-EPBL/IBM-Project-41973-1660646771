{
 "cells": [
  {
   "cell_type": "code",
   "execution_count": null,
   "metadata": {},
   "outputs": [],
   "source": [
    "from keras.preprocessing.image import ImageDataGenerator\n",
    "from google.colab import drive\n",
    "drive.mount('/content/drive')\n",
    "Mounted at /content/drive\n",
    "Image Data Augmentation\n",
    "train_datagen = ImageDataGenerator(rescale=1./255,shear_range=0.2,zoom_range=0.2,horizontal_flip=True)\n",
    "test_datagen=ImageDataGenerator(rescale=1./255)\n",
    "Loading Data and performing Data Augmentation\n",
    "x_train=train_datagen.flow_from_directory(r'/content/drive/MyDrive/ibm-nutrition-analyser/TRAIN_SET',target_size=(64,64),batch_size=32,class_mode='sparse')\n",
    "x_test=train_datagen.flow_from_directory(r'/content/drive/MyDrive/ibm-nutrition-analyser/TEST_SET',target_size=(64,64),batch_size=32,class_mode='sparse')\n",
    "Found 4119 images belonging to 5 classes.\n",
    "Found 929 images belonging to 5 classes.\n",
    "print(x_train.class_indices)\n",
    "{'APPLES': 0, 'BANANA': 1, 'ORANGE': 2, 'PINEAPPLE': 3, 'WATERMELON': 4}\n",
    "print(x_test.class_indices)\n",
    "{'APPLES': 0, 'BANANA': 1, 'ORANGE': 2, 'PINEAPPLE': 3, 'WATERMELON': 4}\n",
    "from collections import Counter as c\n",
    "c(x_train .labels)\n",
    "Counter({0: 996, 1: 1354, 2: 1019, 3: 275, 4: 475})"
   ]
  }
 ],
 "metadata": {
  "language_info": {
   "name": "python"
  },
  "orig_nbformat": 4
 },
 "nbformat": 4,
 "nbformat_minor": 2
}
